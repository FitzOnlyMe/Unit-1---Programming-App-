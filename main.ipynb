{
 "cells": [
  {
   "cell_type": "markdown",
   "metadata": {},
   "source": [
    "Imports"
   ]
  },
  {
   "cell_type": "code",
   "execution_count": null,
   "metadata": {},
   "outputs": [],
   "source": [
    "import tkinter as tk\n",
    "from tkinter import messagebox\n",
    "import sqlite3\n",
    "from tkcalendar import Calendar"
   ]
  },
  {
   "cell_type": "markdown",
   "metadata": {},
   "source": [
    "Athlete Class"
   ]
  },
  {
   "cell_type": "code",
   "execution_count": null,
   "metadata": {},
   "outputs": [],
   "source": [
    "class Athlete: \n",
    "# Am I actually happy with this? can some functions be moved INSIDE of the athlete class?\n",
    "    def __init__(self, id, name, training_plan, current_weight, competition_weight_category, competitions_entered, private_coaching_hours, notes):\n",
    "        self.id = id\n",
    "        self.name = name\n",
    "        self.training_plan = training_plan\n",
    "        self.current_weight = current_weight\n",
    "        self.competition_weight_category = competition_weight_category\n",
    "        self.competitions_entered = competitions_entered\n",
    "        self.private_coaching_hours = private_coaching_hours\n",
    "        self.notes = notes"
   ]
  },
  {
   "cell_type": "markdown",
   "metadata": {},
   "source": [
    "Data"
   ]
  },
  {
   "cell_type": "code",
   "execution_count": null,
   "metadata": {},
   "outputs": [],
   "source": [
    "weight_categories = {\n",
    "    # Category & Upper Limit\n",
    "        \"Heavyweight\": 999,\n",
    "        \"Light-Heavyweight\": 100,\n",
    "        \"Middleweight\": 90,\n",
    "        \"Light-Middleweight\": 81,\n",
    "        \"Lightweight\": 73,\n",
    "        \"FlyWeight\": 66}"
   ]
  },
  {
   "cell_type": "markdown",
   "metadata": {},
   "source": [
    "Validations"
   ]
  },
  {
   "cell_type": "code",
   "execution_count": null,
   "metadata": {},
   "outputs": [],
   "source": [
    "# Validate training plan entry\n",
    "valid_plans = [\"Beginner\", \"Intermediate\", \"Elite\"]\n",
    "\n",
    "# Validate weight category entry box for create new athlete !!!! POSSIBLE ERROR IN CODE !!!!\n",
    "valid_categories = [\"Heavyweight\", \"Light-Heavyweight\", \"Middleweight\", \"Light-Middleweight\", \"Lightweight\", \"Flyweight\"]"
   ]
  },
  {
   "cell_type": "markdown",
   "metadata": {},
   "source": [
    "Global Functions"
   ]
  },
  {
   "cell_type": "code",
   "execution_count": null,
   "metadata": {},
   "outputs": [],
   "source": [
    "def open_weight_cats():\n",
    "    # Create a new top-level window\n",
    "    weight_cats_help_window = tk.Toplevel()  \n",
    "    weight_cats_help_window.title(\"Weight Categories Help\")  \n",
    "\n",
    "    # Create a frame to contain the content with padding and border\n",
    "    content_frame = tk.Frame(weight_cats_help_window, padx=20, pady=20, bd=2, relief=\"groove\")\n",
    "    content_frame.pack(padx=10, pady=10)\n",
    "\n",
    "    # Header labels\n",
    "    tk.Label(content_frame, text=\"Category\", width=20, anchor=\"w\", font=(\"Helvetica\", 12, \"bold\")).grid(row=0, column=0, padx=10, pady=5)\n",
    "    tk.Label(content_frame, text=\"Weight Limit (Kg)\", width=20, anchor=\"e\", font=(\"Helvetica\", 12, \"bold\")).grid(row=0, column=1, padx=10, pady=5)\n",
    "\n",
    "    # Adding a line separator at the top\n",
    "    tk.Frame(content_frame, height=2, width=400, bg=\"black\").grid(row=1, columnspan=2, pady=5)\n",
    "\n",
    "    # Iterate over weight_categories dictionary (Key/Value pairs)\n",
    "    for idx, (category, limit) in enumerate(weight_categories.items(), start=2):\n",
    "        # Labels for category and limit\n",
    "        tk.Label(content_frame, text=category, width=20, anchor=\"w\").grid(row=idx, column=0, padx=10, pady=5, sticky=\"w\")\n",
    "        tk.Label(content_frame, text=limit, width=20, anchor=\"e\").grid(row=idx, column=1, padx=10, pady=5, sticky=\"e\")"
   ]
  },
  {
   "cell_type": "markdown",
   "metadata": {},
   "source": [
    "Main (App) Class"
   ]
  },
  {
   "cell_type": "code",
   "execution_count": null,
   "metadata": {},
   "outputs": [],
   "source": [
    "class App:\n",
    "    def __init__(self, root):\n",
    "        self.root = root\n",
    "        self.root.title(\"N S J\")   \n",
    "\n",
    "        # Set Window Dimensions & Center on Users Screen\n",
    "        width = 750\n",
    "        height = 210\n",
    "        screen_width = root.winfo_screenwidth()\n",
    "        screen_height = root.winfo_screenheight()\n",
    "        x_coordinate = (screen_width - width) // 2\n",
    "        y_coordinate = (screen_height - height) // 2\n",
    "        root.geometry(f\"{width}x{height}+{x_coordinate}+{y_coordinate}\")\n",
    "\n",
    "\n",
    "        pass\n",
    "\n",
    "\n",
    "    def create_table(self):\n",
    "        # Create the athletes table (IF it doesn't already exist)\n",
    "        pass\n",
    "\n",
    "\n",
    "    def view_records(self): \n",
    "        # Create the view_records_window\n",
    "        pass\n",
    "\n",
    "        def view_selected_athlete(): # Function to view the selected athlete (open a new window populated by the athlete data selected on the view_records_window)\n",
    "            pass\n",
    "\n",
    "                    \n",
    "            def update_record():\n",
    "                # Function to update the record in the database\n",
    "                pass\n",
    "\n",
    "            \n",
    "            def delete_record():\n",
    "                # Function to delete the record from the database\n",
    "                pass\n",
    "\n",
    "\n",
    "    \n",
    "    def create_athlete(self):\n",
    "        # Create new athlete data\n",
    "        pass\n",
    "\n",
    "\n",
    "    def save_record(self):\n",
    "        # Retrieve data from entry fields\n",
    "        pass\n",
    "\n",
    "\n",
    "\n",
    "    def competition_calendar(self): # UPDATED COMP CAL NEEDS INSERTING\n",
    "        def create_entries_table(conn):\n",
    "            pass\n",
    "\n",
    "        def save_entry(conn, date, title, start_time, end_time, location, notes):\n",
    "            pass\n",
    "\n",
    "        def on_date_selected():\n",
    "            pass\n",
    "\n",
    "        def add_entry():\n",
    "            pass\n",
    "\n",
    "            def save_and_close():\n",
    "                pass\n",
    "\n",
    "        def load_entries(date):\n",
    "            pass\n",
    "\n",
    "\n",
    "    def __del__(self):\n",
    "        # Close database connection\n",
    "        self.conn.close()"
   ]
  },
  {
   "cell_type": "markdown",
   "metadata": {},
   "source": [
    "Close Loop"
   ]
  },
  {
   "cell_type": "code",
   "execution_count": null,
   "metadata": {},
   "outputs": [],
   "source": [
    "if __name__ == \"__main__\":\n",
    "    root = tk.Tk()\n",
    "    app = App(root)\n",
    "    root.mainloop()"
   ]
  }
 ],
 "metadata": {
  "language_info": {
   "name": "python"
  }
 },
 "nbformat": 4,
 "nbformat_minor": 2
}
