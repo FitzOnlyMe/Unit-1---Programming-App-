{
 "cells": [
  {
   "cell_type": "markdown",
   "metadata": {},
   "source": [
    "Imports"
   ]
  },
  {
   "cell_type": "code",
   "execution_count": 1,
   "metadata": {},
   "outputs": [],
   "source": [
    "import tkinter as tk\n",
    "from tkinter import messagebox\n",
    "import sqlite3\n",
    "from tkcalendar import Calendar"
   ]
  },
  {
   "cell_type": "markdown",
   "metadata": {},
   "source": [
    "Athlete Class"
   ]
  },
  {
   "cell_type": "code",
   "execution_count": 2,
   "metadata": {},
   "outputs": [],
   "source": [
    "class Athlete: \n",
    "# Am I actually happy with this? can some functions be moved INSIDE of the athlete class?\n",
    "    def __init__(self, id, name, training_plan, current_weight, competition_weight_category, competitions_entered, private_coaching_hours, notes):\n",
    "        self.id = id\n",
    "        self.name = name\n",
    "        self.training_plan = training_plan\n",
    "        self.current_weight = current_weight\n",
    "        self.competition_weight_category = competition_weight_category\n",
    "        self.competitions_entered = competitions_entered\n",
    "        self.private_coaching_hours = private_coaching_hours\n",
    "        self.notes = notes"
   ]
  },
  {
   "cell_type": "markdown",
   "metadata": {},
   "source": [
    "Data"
   ]
  },
  {
   "cell_type": "code",
   "execution_count": 3,
   "metadata": {},
   "outputs": [],
   "source": [
    "weight_categories = {\n",
    "    # Category & Upper Limit\n",
    "        \"Heavyweight\": 999,\n",
    "        \"Light-Heavyweight\": 100,\n",
    "        \"Middleweight\": 90,\n",
    "        \"Light-Middleweight\": 81,\n",
    "        \"Lightweight\": 73,\n",
    "        \"FlyWeight\": 66}"
   ]
  },
  {
   "cell_type": "markdown",
   "metadata": {},
   "source": [
    "Validations"
   ]
  },
  {
   "cell_type": "code",
   "execution_count": 4,
   "metadata": {},
   "outputs": [],
   "source": [
    "# Validate training plan entry\n",
    "valid_plans = [\"Beginner\", \"Intermediate\", \"Elite\"]\n",
    "\n",
    "# Validate weight category entry box for create new athlete !!!! POSSIBLE ERROR IN CODE !!!!\n",
    "valid_categories = [\"Heavyweight\", \"Light-Heavyweight\", \"Middleweight\", \"Light-Middleweight\", \"Lightweight\", \"Flyweight\"]"
   ]
  },
  {
   "cell_type": "markdown",
   "metadata": {},
   "source": [
    "Global Functions"
   ]
  },
  {
   "cell_type": "code",
   "execution_count": 5,
   "metadata": {},
   "outputs": [],
   "source": [
    "def open_weight_cats():\n",
    "    # Create a new top-level window\n",
    "    weight_cats_help_window = tk.Toplevel()  \n",
    "    weight_cats_help_window.title(\"Weight Categories Help\")  \n",
    "\n",
    "    # Create a frame to contain the content with padding and border\n",
    "    content_frame = tk.Frame(weight_cats_help_window, padx=20, pady=20, bd=2, relief=\"groove\")\n",
    "    content_frame.pack(padx=10, pady=10)\n",
    "\n",
    "    # Header labels\n",
    "    tk.Label(content_frame, text=\"Category\", width=20, anchor=\"w\", font=(\"Helvetica\", 12, \"bold\")).grid(row=0, column=0, padx=10, pady=5)\n",
    "    tk.Label(content_frame, text=\"Weight Limit (Kg)\", width=20, anchor=\"e\", font=(\"Helvetica\", 12, \"bold\")).grid(row=0, column=1, padx=10, pady=5)\n",
    "\n",
    "    # Adding a line separator at the top\n",
    "    tk.Frame(content_frame, height=2, width=400, bg=\"black\").grid(row=1, columnspan=2, pady=5)\n",
    "\n",
    "    # Iterate over weight_categories dictionary (Key/Value pairs)\n",
    "    for idx, (category, limit) in enumerate(weight_categories.items(), start=2):\n",
    "        # Labels for category and limit\n",
    "        tk.Label(content_frame, text=category, width=20, anchor=\"w\").grid(row=idx, column=0, padx=10, pady=5, sticky=\"w\")\n",
    "        tk.Label(content_frame, text=limit, width=20, anchor=\"e\").grid(row=idx, column=1, padx=10, pady=5, sticky=\"e\")"
   ]
  },
  {
   "cell_type": "markdown",
   "metadata": {},
   "source": [
    "Main (App) Class"
   ]
  },
  {
   "cell_type": "code",
   "execution_count": 6,
   "metadata": {},
   "outputs": [],
   "source": [
    "class App:\n",
    "    def __init__(self, root):\n",
    "        self.root = root\n",
    "        self.root.title(\"N S J\")   \n",
    "\n",
    "        # Set Window Dimensions & Center on Users Screen\n",
    "        width = 750\n",
    "        height = 210\n",
    "        screen_width = root.winfo_screenwidth()\n",
    "        screen_height = root.winfo_screenheight()\n",
    "        x_coordinate = (screen_width - width) // 2\n",
    "        y_coordinate = (screen_height - height) // 2\n",
    "        root.geometry(f\"{width}x{height}+{x_coordinate}+{y_coordinate}\")\n",
    "\n",
    "\n",
    "        # Create a new frame for the content with a border\n",
    "        content_frame = tk.Frame(root, bd=2, relief=\"groove\", )\n",
    "        content_frame.pack(padx=20, pady=20)\n",
    "\n",
    "        # Title (H1) inside the content frame\n",
    "        title_label = tk.Label(content_frame, text=\"Athlete Management Portal\", font=(\"Helvetica\", 24, \"bold\"))\n",
    "        title_label.pack(pady=10)\n",
    "\n",
    "        # Database connection\n",
    "        self.conn = sqlite3.connect(\"Athletes.db\")\n",
    "        self.c = self.conn.cursor()\n",
    "\n",
    "        # Frame & Buttons\n",
    "        root_window_button_frame = tk.Frame(content_frame,)\n",
    "        root_window_button_frame.pack(pady=20)\n",
    "\n",
    "        # Create Athlete Button\n",
    "        trainer_button = tk.Button(root_window_button_frame, text=\"Add new Athlete\", command = self.create_athlete)\n",
    "        trainer_button.grid(row=0, column=0, padx=(50, 30), sticky=\"ew\")\n",
    "\n",
    "        # View all Athletes Button\n",
    "        athlete_button = tk.Button(root_window_button_frame, text=\"Manage Athletes\", command = self.view_records)\n",
    "        athlete_button.grid(row=0, column=2, padx=30, sticky=\"ew\")\n",
    "\n",
    "        # Competition Calendar Button\n",
    "        comp_calendar_button = tk.Button(root_window_button_frame, text=\"Competition Calendar\", command = self.competition_calendar)\n",
    "        comp_calendar_button.grid(row=1, column=1, padx=(30, 50), sticky=\"ew\")\n",
    "\n",
    "        # Grid weight configuration to make buttons the correct size\n",
    "        root_window_button_frame.columnconfigure(0, weight=1)\n",
    "        root_window_button_frame.columnconfigure(1, weight=1)\n",
    "        root_window_button_frame.columnconfigure(2, weight=1)\n",
    "\n",
    "        # initialise the creation of the athletes table (IF it doesn't already exist)\n",
    "        self.create_table()\n",
    "\n",
    "\n",
    "    def create_table(self):\n",
    "        # Create the athletes table (IF it doesn't already exist)\n",
    "        pass\n",
    "\n",
    "\n",
    "    def view_records(self): \n",
    "        # Create the view_records_window\n",
    "        pass\n",
    "\n",
    "        def view_selected_athlete(): # Function to view the selected athlete (open a new window populated by the athlete data selected on the view_records_window)\n",
    "            pass\n",
    "\n",
    "                    \n",
    "            def update_record():\n",
    "                # Function to update the record in the database\n",
    "                pass\n",
    "\n",
    "            \n",
    "            def delete_record():\n",
    "                # Function to delete the record from the database\n",
    "                pass\n",
    "\n",
    "\n",
    "    \n",
    "    def create_athlete(self):\n",
    "        # Create new athlete data\n",
    "        pass\n",
    "\n",
    "\n",
    "    def save_record(self):\n",
    "        # Retrieve data from entry fields\n",
    "        pass\n",
    "\n",
    "\n",
    "\n",
    "    def competition_calendar(self): # UPDATED COMP CAL NEEDS INSERTING\n",
    "        def create_entries_table(conn):\n",
    "            pass\n",
    "\n",
    "        def save_entry(conn, date, title, start_time, end_time, location, notes):\n",
    "            pass\n",
    "\n",
    "        def on_date_selected():\n",
    "            pass\n",
    "\n",
    "        def add_entry():\n",
    "            pass\n",
    "\n",
    "            def save_and_close():\n",
    "                pass\n",
    "\n",
    "        def load_entries(date):\n",
    "            pass\n",
    "\n",
    "\n",
    "    def __del__(self):\n",
    "        # Close database connection\n",
    "        self.conn.close()"
   ]
  },
  {
   "cell_type": "markdown",
   "metadata": {},
   "source": [
    "Close Loop"
   ]
  },
  {
   "cell_type": "code",
   "execution_count": 7,
   "metadata": {},
   "outputs": [],
   "source": [
    "if __name__ == \"__main__\":\n",
    "    root = tk.Tk()\n",
    "    app = App(root)\n",
    "    root.mainloop()"
   ]
  }
 ],
 "metadata": {
  "kernelspec": {
   "display_name": "Python 3",
   "language": "python",
   "name": "python3"
  },
  "language_info": {
   "codemirror_mode": {
    "name": "ipython",
    "version": 3
   },
   "file_extension": ".py",
   "mimetype": "text/x-python",
   "name": "python",
   "nbconvert_exporter": "python",
   "pygments_lexer": "ipython3",
   "version": "3.10.12"
  }
 },
 "nbformat": 4,
 "nbformat_minor": 2
}
